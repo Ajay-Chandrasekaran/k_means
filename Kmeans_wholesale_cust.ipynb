{
 "cells": [
  {
   "cell_type": "code",
   "execution_count": null,
   "metadata": {},
   "outputs": [],
   "source": [
    "import numpy as np\n",
    "import pandas as pd\n",
    "import matplotlib.pyplot as plt\n",
    "from sklearn.cluster import KMeans"
   ]
  },
  {
   "cell_type": "code",
   "execution_count": null,
   "metadata": {},
   "outputs": [],
   "source": [
    "X = pd.read_csv('.csv', header=None, usecols=[0, 1, 2, 3]).values"
   ]
  },
  {
   "cell_type": "code",
   "execution_count": null,
   "metadata": {},
   "outputs": [],
   "source": [
    "y = pd.read_csv('iris.csv', header=None, usecols=[4]).values"
   ]
  },
  {
   "cell_type": "code",
   "execution_count": null,
   "metadata": {},
   "outputs": [],
   "source": [
    "def initialize_centroids(data, k_centroids):\n",
    "    '''Randomly picks k elements from data as centroids'''\n",
    "    \n",
    "    index = np.random.choice(data.shape[0], k_centroids)\n",
    "    return data[index]\n",
    "\n",
    "def find_closest_centroid(data, centroids):\n",
    "    '''assign each data element the closest centroid from k centroids'''\n",
    "    \n",
    "    closest_centroid_index = np.zeros(data.shape[0])\n",
    "\n",
    "    for ind in range(data.shape[0]):\n",
    "        closest_centroid_index[ind] = np.argmin(np.sum(np.square(data[ind] - centroids), axis=1))\n",
    "    \n",
    "    return closest_centroid_index\n",
    "\n",
    "def compute_centroids(data, closest_centroid_index, n_centroids):\n",
    "    new_centroids = np.zeros((n_centroids, data.shape[1]))\n",
    "    n_neighbours = np.zeros(n_centroids)\n",
    "    \n",
    "    for ind in range(data.shape[0]):\n",
    "        centroid_index = int(closest_centroid_index[ind])\n",
    "        new_centroids[centroid_index] += data[ind]\n",
    "        n_neighbours[centroid_index] += 1\n",
    "        \n",
    "    for ind in range(n_centroids):\n",
    "        new_centroids[ind] /= n_neighbours[ind]\n",
    "        \n",
    "    return new_centroids"
   ]
  },
  {
   "cell_type": "code",
   "execution_count": null,
   "metadata": {},
   "outputs": [],
   "source": [
    "def k_means(data, k_centroids, iterations):\n",
    "    centroids = initialize_centroids(data, k_centroids)\n",
    "#     centroids_history = list()\n",
    "#     centroids_history.append(centroids)\n",
    "    \n",
    "    for i in range(iterations):\n",
    "        closest_centroid = find_closest_centroid(data, centroids)\n",
    "        centroids = compute_centroids(data, closest_centroid, k_centroids)\n",
    "#         centroids_history.append(centroids)\n",
    "    \n",
    "    return centroids, closest_centroid"
   ]
  },
  {
   "cell_type": "code",
   "execution_count": null,
   "metadata": {},
   "outputs": [],
   "source": [
    "def compute_cost(data, centroids, closest_centroids):\n",
    "    cost = 0\n",
    "    for i in range(data.shape[0]):\n",
    "        cost += np.sum(np.square(data[i] - centroids[int(closest_centroids[i])]))\n",
    "    return cost"
   ]
  },
  {
   "cell_type": "code",
   "execution_count": null,
   "metadata": {},
   "outputs": [],
   "source": [
    "max_cluster = 5\n",
    "cost_history = list()\n",
    "centroid_history = list()\n",
    "for k in range(1, max_cluster + 1):\n",
    "    centroids, closest_cent = k_means(X, k, 20)\n",
    "    centroid_history.append(centroids)\n",
    "    cost_history.append(compute_cost(X, centroids, closest_cent))"
   ]
  },
  {
   "cell_type": "code",
   "execution_count": null,
   "metadata": {},
   "outputs": [],
   "source": [
    "fig = plt.figure()\n",
    "plt.plot([k for k in range(1, max_cluster + 1)], cost_history, label=['x', 'y'])\n",
    "plt.xlabel = 'number of clusters'\n",
    "plt.ylabel = 'cost'\n",
    "# fig.savefig('k_means.jpg')"
   ]
  },
  {
   "cell_type": "code",
   "execution_count": null,
   "metadata": {},
   "outputs": [],
   "source": []
  }
 ],
 "metadata": {
  "kernelspec": {
   "display_name": "Python 3",
   "language": "python",
   "name": "python3"
  },
  "language_info": {
   "codemirror_mode": {
    "name": "ipython",
    "version": 3
   },
   "file_extension": ".py",
   "mimetype": "text/x-python",
   "name": "python",
   "nbconvert_exporter": "python",
   "pygments_lexer": "ipython3",
   "version": "3.8.3rc1"
  }
 },
 "nbformat": 4,
 "nbformat_minor": 4
}
